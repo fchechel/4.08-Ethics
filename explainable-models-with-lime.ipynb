{
 "cells": [
  {
   "cell_type": "markdown",
   "metadata": {},
   "source": [
    "<img src=\"http://imgur.com/1ZcRyrc.png\" style=\"float: left; margin: 20px; height: 55px\">\n",
    "\n",
    "# Explainble Models with LIME\n",
    "\n",
    "_Authors: Greg Baker (SYD)_\n",
    "\n",
    "---\n",
    "\n",
    "### Learning Objectives\n",
    "- Be aware that there are often political and legal implications to data science\n",
    "- Develop a sense of scale of the implications of the EU GDPR\n",
    "- Identify explainable vs non-explainable models\n",
    "- ..."
   ]
  },
  {
   "cell_type": "markdown",
   "metadata": {},
   "source": [
    "### Lesson Guide\n",
    "- [Introduction: National Data Requirements](#intro)\n",
    "- [GDPR](#gdpr)\n",
    "- [Options for Machine Learning on EU Citizen Data](#options)\n",
    "- [Resources](#resources)"
   ]
  },
  {
   "cell_type": "code",
   "execution_count": 14,
   "metadata": {
    "collapsed": true
   },
   "outputs": [],
   "source": [
    "import matplotlib.pyplot as plt\n",
    "import numpy as np\n",
    "import pandas as pd\n",
    "import seaborn as sns\n",
    "\n",
    "%matplotlib inline\n",
    "%config InlineBackend.figure_format = 'retina'"
   ]
  },
  {
   "cell_type": "markdown",
   "metadata": {},
   "source": [
    "<a id='intro'></a>\n",
    "\n",
    "## Introduction: National Data Requirements\n",
    "\n",
    "As data scientists, we often have access to very personal information about \n",
    "our customers or users. \n",
    "\n",
    "Many countries have very strict laws on how such data must be handled.\n",
    "\n",
    "Laws change -- sometimes quite suddenly -- and General Assembly doesn't\n",
    "promise that anything in this topic won't be out-of-date by the time you\n",
    "finish the class.\n",
    "\n",
    "Also, IANAL.\n",
    "\n",
    "We'll start with two countries with extremely different approaches and then we'll look at \n",
    "some important laws in the EU."
   ]
  },
  {
   "cell_type": "markdown",
   "metadata": {},
   "source": [
    "----\n",
    "\n",
    "<img src=\"assets/malaysia.png\" style=\"float: left; margin: 10px; height: 50px\">\n",
    "\n",
    "## Malaysia\n",
    "\n",
    "<br>\n",
    "\n",
    "To make sure that companies aren't being discriminatory or racist, it is quite\n",
    "common to collect some quite personal data about every customer, student or user:\n",
    "\n",
    "- _What is your race?_\n",
    "\n",
    "- _What is your religion?_\n",
    "\n",
    "These are written on everyone's national identity card and stored in numerous databases.\n",
    "Changing these requires completing a formal application and being issued with a new \n",
    "identity card.\n",
    "\n",
    "The Malaysian goverment cares very deeply about discrimination against particular\n",
    "races.\n",
    "\n",
    "If you are dealing with data from Malaysia it will be important to show that any algorithm you \n",
    "use doesn't adversely affect people of different religions as a court can easily request data \n",
    "on your per-race outcomes. Analysing student education \n",
    "outcomes to confirm no racial or religius bias is important, for example."
   ]
  },
  {
   "cell_type": "markdown",
   "metadata": {},
   "source": [
    "----\n",
    "\n",
    "<img src=\"assets/France.png\" style=\"float: left; margin: 10px; height: 50px\">\n",
    "\n",
    "## France\n",
    "\n",
    "<br>\n",
    "\n",
    "<blockquote>Race is such a taboo term that a 1978 law specifically banned the collection and computerized storage of race-based data without the express consent of the interviewees or a waiver by a state committee. France therefore collects no census or other data on the race (or ethnicity) of its citizens.  [Race policy in France](https://www.brookings.edu/articles/race-policy-in-france/)\n",
    "</blockquote>\n",
    "\n",
    "Even if you don't use race in your model, you simply can't store this in a database or data frame.\n",
    "\n",
    "This makes it very difficult for a French university to open a campus in Malaysia!"
   ]
  },
  {
   "cell_type": "markdown",
   "metadata": {},
   "source": [
    "<a id='gdpr'></a>\n",
    "\n",
    "----\n",
    "\n",
    "<img src=\"assets/eu.png\" style=\"float: left; margin: 20px; height: 50px\">\n",
    "\n",
    "# EU GDPR\n",
    "\n",
    "<br>\n",
    "\n",
    "The General Data Protection Regulation was agreed to in April 2016. It goes into effect in **25th May 2018**.\n",
    "\n",
    "It puts some very serious constraints on what can and can't be kept in a database, and makes some\n",
    "common machine learning algorithms difficult to implement."
   ]
  },
  {
   "cell_type": "markdown",
   "metadata": {},
   "source": [
    "## Article 22\n",
    "\n",
    "<blockquote>\n",
    "<p>\n",
    "The data subject shall have the right not to be subject to a **decision based solely on automated processing**, including profiling, which produces legal effects concerning him or her or similarly significantly affects him or her.\n",
    "</p>\n",
    "\n",
    "<p>\n",
    "The data controller shall implement suitable measures to safeguard the data subject's rights and freedoms and legitimate interests, at least the **right to obtain human intervention** on the part of the controller, to express his or her point of view and to contest the decision. \n",
    "</p>\n",
    "</blockquote>\n",
    "\n",
    "Since a machine learning classifier is definitely a \"decision based solely on automated processing\", this means that EU citizens have the right to ask to bypass that wonderful new machine learning algorithm you created and have a human being make the decision instead.\n",
    "\n",
    "The legislation doesn't strictly define what a \"legal effect\" is, but at the extremes:\n",
    "\n",
    "- Choosing the optimal image for a landing page to match someone's preferences is probably OK and probably not subject to Article 22.\n",
    "\n",
    "- If you have different pricing models for different customers and you use a machine learning algorithm to\n",
    " choose the offer that you think will best suit them (or makes your company the most money!) you are probably subject to\n",
    " Article 22"
   ]
  },
  {
   "cell_type": "markdown",
   "metadata": {},
   "source": [
    "## Article 9\n",
    "\n",
    "<blockquote>\n",
    "<p>\n",
    " Processing of personal data revealing racial or ethnic origin, political opinions, religious or philosophical beliefs, or trade union membership ... data concerning health or data concerning a natural person's sex life or sexual orientation shall be prohibited. \n",
    " </p>\n",
    "</blockquote>\n",
    "\n",
    "This applies to _any company, anywhere in the world_ working with data from EU citizens. Your input dataframe ($X$) in \n",
    "your model _can't_ have columns for sexual orientation, race, politics or religion. You can't even have columns that\n",
    "are strongly correlated with any of these things.\n"
   ]
  },
  {
   "cell_type": "markdown",
   "metadata": {
    "collapsed": true
   },
   "source": [
    "## Article 83\n",
    "\n",
    "<blockquote>\n",
    "Infringements of the ... provisions shall ... be subject to administrative fines ... up to 4 % of the total worldwide annual turnover of the preceding financial year\n",
    "</blockquote>\n",
    "\n",
    "For reference, this is the maximum potential fine for various companies:\n",
    "\n",
    "| Company | Annual Revenue | Maximum Fine ||\n",
    "|----------|---------------|---------------|\n",
    "| Microsoft (including LinkedIn) | USD100B | USD 4,000,000,000 |\n",
    "| Alphabet (Google) | USD90B | USD 3,600,000,000 |\n",
    "| Facebook | USD27B | USD 1,080,000,000 |\n",
    "| Netflix | USD8.8B | USD 320,000,000 |\n"
   ]
  },
  {
   "cell_type": "markdown",
   "metadata": {},
   "source": [
    "## Recital 71\n",
    "\n",
    "<blockquote>\n",
    "...processing should be subject to suitable safeguards, which should include ... **an explanation of the decision** reached after such assessment and [the option] to challenge the decision.\n",
    "</blockquote>\n",
    "\n",
    "Recitals are not law, they are additional information written out to explain the purposes and thinking of the Articles. It's possible that the EU courts may not interpret the law the same way as the lawmakers did!\n",
    "\n",
    "But this key phrase: _an explanation of the decision_ has caused a lot of angst in the machine learning community.\n",
    "Some machine learning classifiers are really very hard to explain in language that can be conveyed to a non-technical audience.\n",
    "\n",
    "- Deep learning\n",
    "\n",
    "- Random forests\n",
    "\n",
    "Some are (relatively) easy:\n",
    "\n",
    "- Logistic regression\n",
    "\n",
    "- Bayesian methods\n",
    "\n",
    "- Decision trees\n",
    "\n",
    "- Rule lists\n",
    "\n",
    "\n",
    "\n"
   ]
  },
  {
   "cell_type": "markdown",
   "metadata": {},
   "source": [
    "## Recital 71 (continued)\n",
    "\n",
    "<blockquote>\n",
    "... the controller should use appropriate mathematical or statistical procedures ... [to take] account of the potential risks involved for the interests and rights of the data subject and that prevents, inter alia, discriminatory effects on natural persons on the basis of racial or ethnic origin, political opinion, religion or beliefs, trade union membership, genetic or health status or sexual orientation, or that result in measures having such an effect.\n",
    "</blockquote>\n",
    "\n",
    "Not only do you have to show that you didn't deliberately include race, religion or sexual orientation in your model, you also have to show that your model isn't discriminating against anyone accidentally. Of course, this is a bit challenging\n",
    "for your French users, because you won't be able to store what race they identify with in the first place."
   ]
  },
  {
   "cell_type": "markdown",
   "metadata": {},
   "source": [
    "<a id=\"options\"></a>\n",
    "\n",
    "----\n",
    "\n",
    "# Options for Machine Learning on EU Citizen's Data\n",
    "\n",
    "\n",
    "There are two approaches that are likely to satisfy the GDPR:\n",
    "\n",
    "- Only use machine learning algorithms that can be understood very easily by non-technical users\n",
    "\n",
    "- Retro-fit explainability over other algorithms\n"
   ]
  },
  {
   "cell_type": "markdown",
   "metadata": {},
   "source": [
    "## Decision Lists\n",
    "\n",
    "Decision lists are one of the easiest classifiers to understand. Training\n",
    "creates a list of if-then-else statements and their associated probabilities.\n",
    "\n",
    "The sklearn-expertsys library (which is not yet integrated well into sklearn)\n",
    "is a convenient way of creating decision lists."
   ]
  },
  {
   "cell_type": "code",
   "execution_count": 2,
   "metadata": {},
   "outputs": [
    {
     "name": "stdout",
     "output_type": "stream",
     "text": [
      "Cloning into 'sklearn-expertsys'...\n",
      "remote: Counting objects: 186, done.\u001b[K\n",
      "remote: Total 186 (delta 0), reused 0 (delta 0), pack-reused 186\u001b[K\n",
      "Receiving objects: 100% (186/186), 81.40 KiB | 122.00 KiB/s, done.\n",
      "Resolving deltas: 100% (116/116), done.\n"
     ]
    }
   ],
   "source": [
    "!git clone https://github.com/tmadl/sklearn-expertsys"
   ]
  },
  {
   "cell_type": "code",
   "execution_count": 11,
   "metadata": {},
   "outputs": [
    {
     "name": "stdout",
     "output_type": "stream",
     "text": [
      "  % Total    % Received % Xferd  Average Speed   Time    Time     Time  Current\n",
      "                                 Dload  Upload   Total   Spent    Left  Speed\n",
      "100  790k  100  790k    0     0   131k      0  0:00:06  0:00:06 --:--:--  165k\n"
     ]
    }
   ],
   "source": [
    "!curl http://www.borgelt.net/bin64/py2/fim.so --output sklearn-expertsys/fim.so\n",
    "# I should make a MacOS version as well, and provide instructions for Windows users"
   ]
  },
  {
   "cell_type": "code",
   "execution_count": 3,
   "metadata": {
    "collapsed": true
   },
   "outputs": [],
   "source": [
    "import sys\n",
    "sys.path.append('sklearn-expertsys')"
   ]
  },
  {
   "cell_type": "code",
   "execution_count": 12,
   "metadata": {},
   "outputs": [],
   "source": [
    "import RuleListClassifier"
   ]
  },
  {
   "cell_type": "code",
   "execution_count": 149,
   "metadata": {
    "collapsed": true
   },
   "outputs": [],
   "source": [
    "rlc = RuleListClassifier.RuleListClassifier(class1label='alive', listlengthprior=7, n_chains=7, \n",
    "                                            listwidthprior=2,\n",
    "                                            minsupport=3, maxcardinality=3)"
   ]
  },
  {
   "cell_type": "code",
   "execution_count": 150,
   "metadata": {},
   "outputs": [],
   "source": [
    "titanic = pd.read_csv('datasets/titanic.csv', index_col=['PassengerId'])\n",
    "titanic.dropna(inplace=True)\n",
    "class_dict = {1: \"First Class\", 2: \"Second Class\", 3: \"Third Class\"}\n",
    "X = pd.DataFrame({\n",
    "    'Pclass': titanic.Pclass.map(class_dict.get),\n",
    "    'Sex': titanic.Sex,\n",
    "    'Siblings' : titanic.SibSp,\n",
    "    'Parch': titanic.Parch,\n",
    "    'Age': titanic.Age\n",
    "})\n",
    "Y = pd.DataFrame({\n",
    "    'Survived': titanic.Survived\n",
    "})\n",
    "X.reset_index(inplace=True)\n",
    "Y.reset_index(inplace=True)\n",
    "del X['PassengerId']\n",
    "Y = Y.Survived"
   ]
  },
  {
   "cell_type": "code",
   "execution_count": 156,
   "metadata": {},
   "outputs": [
    {
     "ename": "AttributeError",
     "evalue": "'DataFrame' object has no attribute 'data'",
     "output_type": "error",
     "traceback": [
      "\u001b[0;31m---------------------------------------------------------------------------\u001b[0m",
      "\u001b[0;31mAttributeError\u001b[0m                            Traceback (most recent call last)",
      "\u001b[0;32m<ipython-input-156-421e97892253>\u001b[0m in \u001b[0;36m<module>\u001b[0;34m()\u001b[0m\n\u001b[1;32m      1\u001b[0m \u001b[0;32mimport\u001b[0m \u001b[0msklearn\u001b[0m\u001b[0;34m.\u001b[0m\u001b[0mmodel_selection\u001b[0m\u001b[0;34m\u001b[0m\u001b[0m\n\u001b[0;32m----> 2\u001b[0;31m \u001b[0;34m(\u001b[0m\u001b[0mXtrain\u001b[0m\u001b[0;34m,\u001b[0m \u001b[0mXtest\u001b[0m\u001b[0;34m,\u001b[0m \u001b[0mYtrain\u001b[0m\u001b[0;34m,\u001b[0m \u001b[0mYtest\u001b[0m\u001b[0;34m)\u001b[0m \u001b[0;34m=\u001b[0m \u001b[0msklearn\u001b[0m\u001b[0;34m.\u001b[0m\u001b[0mmodel_selection\u001b[0m\u001b[0;34m.\u001b[0m\u001b[0mtrain_test_split\u001b[0m\u001b[0;34m(\u001b[0m\u001b[0mX\u001b[0m\u001b[0;34m.\u001b[0m\u001b[0mdata\u001b[0m\u001b[0;34m,\u001b[0m\u001b[0mY\u001b[0m\u001b[0;34m.\u001b[0m\u001b[0mdata\u001b[0m\u001b[0;34m)\u001b[0m\u001b[0;34m\u001b[0m\u001b[0m\n\u001b[0m",
      "\u001b[0;32m/usr/local/lib/python2.7/dist-packages/pandas/core/generic.pyc\u001b[0m in \u001b[0;36m__getattr__\u001b[0;34m(self, name)\u001b[0m\n\u001b[1;32m   3079\u001b[0m             \u001b[0;32mif\u001b[0m \u001b[0mname\u001b[0m \u001b[0;32min\u001b[0m \u001b[0mself\u001b[0m\u001b[0;34m.\u001b[0m\u001b[0m_info_axis\u001b[0m\u001b[0;34m:\u001b[0m\u001b[0;34m\u001b[0m\u001b[0m\n\u001b[1;32m   3080\u001b[0m                 \u001b[0;32mreturn\u001b[0m \u001b[0mself\u001b[0m\u001b[0;34m[\u001b[0m\u001b[0mname\u001b[0m\u001b[0;34m]\u001b[0m\u001b[0;34m\u001b[0m\u001b[0m\n\u001b[0;32m-> 3081\u001b[0;31m             \u001b[0;32mreturn\u001b[0m \u001b[0mobject\u001b[0m\u001b[0;34m.\u001b[0m\u001b[0m__getattribute__\u001b[0m\u001b[0;34m(\u001b[0m\u001b[0mself\u001b[0m\u001b[0;34m,\u001b[0m \u001b[0mname\u001b[0m\u001b[0;34m)\u001b[0m\u001b[0;34m\u001b[0m\u001b[0m\n\u001b[0m\u001b[1;32m   3082\u001b[0m \u001b[0;34m\u001b[0m\u001b[0m\n\u001b[1;32m   3083\u001b[0m     \u001b[0;32mdef\u001b[0m \u001b[0m__setattr__\u001b[0m\u001b[0;34m(\u001b[0m\u001b[0mself\u001b[0m\u001b[0;34m,\u001b[0m \u001b[0mname\u001b[0m\u001b[0;34m,\u001b[0m \u001b[0mvalue\u001b[0m\u001b[0;34m)\u001b[0m\u001b[0;34m:\u001b[0m\u001b[0;34m\u001b[0m\u001b[0m\n",
      "\u001b[0;31mAttributeError\u001b[0m: 'DataFrame' object has no attribute 'data'"
     ]
    }
   ],
   "source": [
    "import sklearn.model_selection\n",
    "(Xtrain, Xtest, Ytrain, Ytest) = sklearn.model_selection.train_test_split(X.data,Y.data)"
   ]
  },
  {
   "cell_type": "code",
   "execution_count": 157,
   "metadata": {},
   "outputs": [
    {
     "name": "stdout",
     "output_type": "stream",
     "text": [
      "Warning: non-categorical data found. Trying to discretize. (Please convert categorical values to strings, and/or specify the argument 'undiscretized_features', to avoid this.)\n",
      "Discretizing  ['Pclass', 'Sex', 'Age'] ...\n"
     ]
    },
    {
     "ename": "KeyError",
     "evalue": "9",
     "output_type": "error",
     "traceback": [
      "\u001b[0;31m---------------------------------------------------------------------------\u001b[0m",
      "\u001b[0;31mKeyError\u001b[0m                                  Traceback (most recent call last)",
      "\u001b[0;32m<ipython-input-157-2fcd6f3bb0e9>\u001b[0m in \u001b[0;36m<module>\u001b[0;34m()\u001b[0m\n\u001b[1;32m      3\u001b[0m \u001b[0;31m#        undiscretized_features=['Pclass'])\u001b[0m\u001b[0;34m\u001b[0m\u001b[0;34m\u001b[0m\u001b[0m\n\u001b[1;32m      4\u001b[0m \u001b[0;34m\u001b[0m\u001b[0m\n\u001b[0;32m----> 5\u001b[0;31m \u001b[0mrlc\u001b[0m\u001b[0;34m.\u001b[0m\u001b[0mfit\u001b[0m\u001b[0;34m(\u001b[0m\u001b[0mXtrain\u001b[0m\u001b[0;34m,\u001b[0m\u001b[0mYtrain\u001b[0m\u001b[0;34m,\u001b[0m \u001b[0mfeature_labels\u001b[0m\u001b[0;34m=\u001b[0m\u001b[0;34m[\u001b[0m\u001b[0;34m'Pclass'\u001b[0m\u001b[0;34m,\u001b[0m \u001b[0;34m'Sex'\u001b[0m\u001b[0;34m,\u001b[0m \u001b[0;34m'Siblings'\u001b[0m\u001b[0;34m,\u001b[0m \u001b[0;34m'Parch'\u001b[0m\u001b[0;34m,\u001b[0m \u001b[0;34m'Age'\u001b[0m\u001b[0;34m]\u001b[0m\u001b[0;34m)\u001b[0m\u001b[0;34m\u001b[0m\u001b[0m\n\u001b[0m",
      "\u001b[0;32m/home/ga/Documents/temp-ga/sklearn-expertsys/RuleListClassifier.pyc\u001b[0m in \u001b[0;36mfit\u001b[0;34m(self, X, y, feature_labels, undiscretized_features)\u001b[0m\n\u001b[1;32m    128\u001b[0m         \u001b[0;31m#Now find frequent itemsets\u001b[0m\u001b[0;34m\u001b[0m\u001b[0;34m\u001b[0m\u001b[0m\n\u001b[1;32m    129\u001b[0m         \u001b[0;31m#Mine separately for each class\u001b[0m\u001b[0;34m\u001b[0m\u001b[0;34m\u001b[0m\u001b[0m\n\u001b[0;32m--> 130\u001b[0;31m         \u001b[0mdata_pos\u001b[0m \u001b[0;34m=\u001b[0m \u001b[0;34m[\u001b[0m\u001b[0mx\u001b[0m \u001b[0;32mfor\u001b[0m \u001b[0mi\u001b[0m\u001b[0;34m,\u001b[0m\u001b[0mx\u001b[0m \u001b[0;32min\u001b[0m \u001b[0menumerate\u001b[0m\u001b[0;34m(\u001b[0m\u001b[0mdata\u001b[0m\u001b[0;34m)\u001b[0m \u001b[0;32mif\u001b[0m \u001b[0my\u001b[0m\u001b[0;34m[\u001b[0m\u001b[0mi\u001b[0m\u001b[0;34m]\u001b[0m\u001b[0;34m==\u001b[0m\u001b[0;36m0\u001b[0m\u001b[0;34m]\u001b[0m\u001b[0;34m\u001b[0m\u001b[0m\n\u001b[0m\u001b[1;32m    131\u001b[0m         \u001b[0mdata_neg\u001b[0m \u001b[0;34m=\u001b[0m \u001b[0;34m[\u001b[0m\u001b[0mx\u001b[0m \u001b[0;32mfor\u001b[0m \u001b[0mi\u001b[0m\u001b[0;34m,\u001b[0m\u001b[0mx\u001b[0m \u001b[0;32min\u001b[0m \u001b[0menumerate\u001b[0m\u001b[0;34m(\u001b[0m\u001b[0mdata\u001b[0m\u001b[0;34m)\u001b[0m \u001b[0;32mif\u001b[0m \u001b[0my\u001b[0m\u001b[0;34m[\u001b[0m\u001b[0mi\u001b[0m\u001b[0;34m]\u001b[0m\u001b[0;34m==\u001b[0m\u001b[0;36m1\u001b[0m\u001b[0;34m]\u001b[0m\u001b[0;34m\u001b[0m\u001b[0m\n\u001b[1;32m    132\u001b[0m         \u001b[0;32massert\u001b[0m \u001b[0mlen\u001b[0m\u001b[0;34m(\u001b[0m\u001b[0mdata_pos\u001b[0m\u001b[0;34m)\u001b[0m\u001b[0;34m+\u001b[0m\u001b[0mlen\u001b[0m\u001b[0;34m(\u001b[0m\u001b[0mdata_neg\u001b[0m\u001b[0;34m)\u001b[0m \u001b[0;34m==\u001b[0m \u001b[0mlen\u001b[0m\u001b[0;34m(\u001b[0m\u001b[0mdata\u001b[0m\u001b[0;34m)\u001b[0m\u001b[0;34m\u001b[0m\u001b[0m\n",
      "\u001b[0;32m/usr/local/lib/python2.7/dist-packages/pandas/core/series.pyc\u001b[0m in \u001b[0;36m__getitem__\u001b[0;34m(self, key)\u001b[0m\n\u001b[1;32m    599\u001b[0m         \u001b[0mkey\u001b[0m \u001b[0;34m=\u001b[0m \u001b[0mcom\u001b[0m\u001b[0;34m.\u001b[0m\u001b[0m_apply_if_callable\u001b[0m\u001b[0;34m(\u001b[0m\u001b[0mkey\u001b[0m\u001b[0;34m,\u001b[0m \u001b[0mself\u001b[0m\u001b[0;34m)\u001b[0m\u001b[0;34m\u001b[0m\u001b[0m\n\u001b[1;32m    600\u001b[0m         \u001b[0;32mtry\u001b[0m\u001b[0;34m:\u001b[0m\u001b[0;34m\u001b[0m\u001b[0m\n\u001b[0;32m--> 601\u001b[0;31m             \u001b[0mresult\u001b[0m \u001b[0;34m=\u001b[0m \u001b[0mself\u001b[0m\u001b[0;34m.\u001b[0m\u001b[0mindex\u001b[0m\u001b[0;34m.\u001b[0m\u001b[0mget_value\u001b[0m\u001b[0;34m(\u001b[0m\u001b[0mself\u001b[0m\u001b[0;34m,\u001b[0m \u001b[0mkey\u001b[0m\u001b[0;34m)\u001b[0m\u001b[0;34m\u001b[0m\u001b[0m\n\u001b[0m\u001b[1;32m    602\u001b[0m \u001b[0;34m\u001b[0m\u001b[0m\n\u001b[1;32m    603\u001b[0m             \u001b[0;32mif\u001b[0m \u001b[0;32mnot\u001b[0m \u001b[0mis_scalar\u001b[0m\u001b[0;34m(\u001b[0m\u001b[0mresult\u001b[0m\u001b[0;34m)\u001b[0m\u001b[0;34m:\u001b[0m\u001b[0;34m\u001b[0m\u001b[0m\n",
      "\u001b[0;32m/usr/local/lib/python2.7/dist-packages/pandas/core/indexes/base.pyc\u001b[0m in \u001b[0;36mget_value\u001b[0;34m(self, series, key)\u001b[0m\n\u001b[1;32m   2475\u001b[0m         \u001b[0;32mtry\u001b[0m\u001b[0;34m:\u001b[0m\u001b[0;34m\u001b[0m\u001b[0m\n\u001b[1;32m   2476\u001b[0m             return self._engine.get_value(s, k,\n\u001b[0;32m-> 2477\u001b[0;31m                                           tz=getattr(series.dtype, 'tz', None))\n\u001b[0m\u001b[1;32m   2478\u001b[0m         \u001b[0;32mexcept\u001b[0m \u001b[0mKeyError\u001b[0m \u001b[0;32mas\u001b[0m \u001b[0me1\u001b[0m\u001b[0;34m:\u001b[0m\u001b[0;34m\u001b[0m\u001b[0m\n\u001b[1;32m   2479\u001b[0m             \u001b[0;32mif\u001b[0m \u001b[0mlen\u001b[0m\u001b[0;34m(\u001b[0m\u001b[0mself\u001b[0m\u001b[0;34m)\u001b[0m \u001b[0;34m>\u001b[0m \u001b[0;36m0\u001b[0m \u001b[0;32mand\u001b[0m \u001b[0mself\u001b[0m\u001b[0;34m.\u001b[0m\u001b[0minferred_type\u001b[0m \u001b[0;32min\u001b[0m \u001b[0;34m[\u001b[0m\u001b[0;34m'integer'\u001b[0m\u001b[0;34m,\u001b[0m \u001b[0;34m'boolean'\u001b[0m\u001b[0;34m]\u001b[0m\u001b[0;34m:\u001b[0m\u001b[0;34m\u001b[0m\u001b[0m\n",
      "\u001b[0;32mpandas/_libs/index.pyx\u001b[0m in \u001b[0;36mpandas._libs.index.IndexEngine.get_value (pandas/_libs/index.c:4404)\u001b[0;34m()\u001b[0m\n",
      "\u001b[0;32mpandas/_libs/index.pyx\u001b[0m in \u001b[0;36mpandas._libs.index.IndexEngine.get_value (pandas/_libs/index.c:4087)\u001b[0;34m()\u001b[0m\n",
      "\u001b[0;32mpandas/_libs/index.pyx\u001b[0m in \u001b[0;36mpandas._libs.index.IndexEngine.get_loc (pandas/_libs/index.c:5126)\u001b[0;34m()\u001b[0m\n",
      "\u001b[0;32mpandas/_libs/hashtable_class_helper.pxi\u001b[0m in \u001b[0;36mpandas._libs.hashtable.Int64HashTable.get_item (pandas/_libs/hashtable.c:14031)\u001b[0;34m()\u001b[0m\n",
      "\u001b[0;32mpandas/_libs/hashtable_class_helper.pxi\u001b[0m in \u001b[0;36mpandas._libs.hashtable.Int64HashTable.get_item (pandas/_libs/hashtable.c:13975)\u001b[0;34m()\u001b[0m\n",
      "\u001b[0;31mKeyError\u001b[0m: 9"
     ]
    }
   ],
   "source": [
    "#rlc.fit(X,Y, \n",
    "#        feature_labels=['Pclass', 'Sex'], \n",
    "#        undiscretized_features=['Pclass'])\n",
    "\n",
    "rlc.fit(Xtrain,Ytrain, feature_labels=['Pclass', 'Sex', 'Siblings', 'Parch', 'Age'])"
   ]
  },
  {
   "cell_type": "code",
   "execution_count": 152,
   "metadata": {},
   "outputs": [
    {
     "name": "stdout",
     "output_type": "stream",
     "text": [
      "Trained RuleListClassifier for detecting alive\n",
      "===============================================\n",
      "IF male THEN probability of alive: 43.3% (33.6%-53.2%)\n",
      "ELSE IF Third Class THEN probability of alive: 57.1% (22.3%-88.2%)\n",
      "ELSE IF male AND First Class THEN probability of alive: 50.0% (2.5%-97.5%)\n",
      "ELSE IF female THEN probability of alive: 94.1% (88.3%-98.0%)\n",
      "ELSE IF First Class THEN probability of alive: 50.0% (2.5%-97.5%)\n",
      "ELSE IF Second Class THEN probability of alive: 50.0% (2.5%-97.5%)\n",
      "ELSE probability of alive: 50.0% (2.5%-97.5%)\n",
      "==============================================\n",
      "\n"
     ]
    }
   ],
   "source": [
    "print rlc"
   ]
  },
  {
   "cell_type": "code",
   "execution_count": null,
   "metadata": {
    "collapsed": true
   },
   "outputs": [],
   "source": []
  },
  {
   "cell_type": "markdown",
   "metadata": {},
   "source": [
    "<a id='resources'></a>\n",
    "\n",
    "## Additional resources\n",
    "\n",
    "---\n",
    "\n",
    "\n",
    "- [Is there are a right to explanation for Machine Learning in the GDPR?](https://iapp.org/news/a/is-there-a-right-to-explanation-for-machine-learning-in-the-gdpr)\n",
    "- [Why a Right to Explanation of Automated Decision-Making Does Not Exist in the General Data Protection Regulation](https://papers.ssrn.com/sol3/papers.cfm?abstract_id=2903469)\n",
    "- [Towards Interpretable Reliable Models](https://blog.kjamistan.com/towards-interpretable-reliable-models/)\n",
    "- [GDPR and you](https://blog.kjamistan.com/gdpr-you-my-talk-at-cloudera-sessions-munchen/)\n",
    "- [Hold Your Machine Learning and AI Models Accountable](https://medium.com/pachyderm-data/hold-your-machine-learning-and-ai-models-accountable-de887177174c)\n",
    "- [How GDPR Affects Data Science](https://kdnuggets.com/2017/07/gdpr-affects-data-science.html)\n",
    "- [Scaleable Bayesian rule lists](https://arxiv.org/pdf/1602.08610v2.pdf)"
   ]
  },
  {
   "cell_type": "code",
   "execution_count": null,
   "metadata": {
    "collapsed": true
   },
   "outputs": [],
   "source": []
  }
 ],
 "metadata": {
  "kernelspec": {
   "display_name": "Python 2",
   "language": "python",
   "name": "python2"
  },
  "language_info": {
   "codemirror_mode": {
    "name": "ipython",
    "version": 2
   },
   "file_extension": ".py",
   "mimetype": "text/x-python",
   "name": "python",
   "nbconvert_exporter": "python",
   "pygments_lexer": "ipython2",
   "version": "2.7.14"
  }
 },
 "nbformat": 4,
 "nbformat_minor": 1
}
